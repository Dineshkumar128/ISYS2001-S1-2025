{
  "cells": [
    {
      "cell_type": "markdown",
      "metadata": {
        "id": "view-in-github",
        "colab_type": "text"
      },
      "source": [
        "<a href=\"https://colab.research.google.com/github/Dineshkumar128/ISYS2001-S1-2025/blob/main/starter_notebook.ipynb\" target=\"_parent\"><img src=\"https://colab.research.google.com/assets/colab-badge.svg\" alt=\"Open In Colab\"/></a>"
      ]
    },
    {
      "cell_type": "markdown",
      "id": "72e78a05",
      "metadata": {
        "id": "72e78a05"
      },
      "source": [
        "# 🌦️ WeatherWise – Assignement 2\n",
        "\n",
        "Welcome to your **WeatherWise** project notebook! This scaffold is designed to help you build your weather advisor app using Python, visualisations, and AI-enhanced development.\n",
        "\n",
        "---\n",
        "\n",
        "📄 **Full Assignment Specification**  \n",
        "See [`ASSIGNMENT.md`](ASSIGNMENT.md) or check the LMS for full details.\n",
        "\n",
        "📝 **Quick Refresher**  \n",
        "A one-page summary is available in [`resources/assignment-summary.md`](resources/assignment-summary.md).\n",
        "\n",
        "---\n",
        "\n",
        "🧠 **This Notebook Structure is Optional**  \n",
        "You’re encouraged to reorganise, rename sections, or remove scaffold cells if you prefer — as long as your final version meets the requirements.\n",
        "\n",
        "✅ You may delete this note before submission.\n",
        "\n"
      ]
    },
    {
      "cell_type": "markdown",
      "id": "fa8c7f6c",
      "metadata": {
        "id": "fa8c7f6c"
      },
      "source": [
        "## 🧰 Setup and Imports\n",
        "\n",
        "This section imports commonly used packages and installs any additional tools used in the project.\n",
        "\n",
        "- You may not need all of these unless you're using specific features (e.g. visualisations, advanced prompting).\n",
        "- The notebook assumes the following packages are **pre-installed** in the provided environment or installable via pip:\n",
        "  - `requests`, `matplotlib`, `pyinputplus`\n",
        "  - `fetch-my-weather` (for accessing weather data easily)\n",
        "  - `hands-on-ai` (for AI logging, comparisons, or prompting tools)\n",
        "\n",
        "If you're running this notebook in **Google Colab**, uncomment the following lines to install the required packages.\n"
      ]
    },
    {
      "cell_type": "code",
      "execution_count": 31,
      "id": "70c3f3f1",
      "metadata": {
        "id": "70c3f3f1",
        "colab": {
          "base_uri": "https://localhost:8080/"
        },
        "outputId": "0b51740f-b560-48ee-ffbc-0f82532421ff"
      },
      "outputs": [
        {
          "output_type": "stream",
          "name": "stdout",
          "text": [
            "Collecting fetch-my-weather\n",
            "  Downloading fetch_my_weather-0.4.0-py3-none-any.whl.metadata (12 kB)\n",
            "Requirement already satisfied: requests>=2.25.0 in /usr/local/lib/python3.11/dist-packages (from fetch-my-weather) (2.32.3)\n",
            "Requirement already satisfied: pydantic>=1.8.0 in /usr/local/lib/python3.11/dist-packages (from fetch-my-weather) (2.11.4)\n",
            "Requirement already satisfied: annotated-types>=0.6.0 in /usr/local/lib/python3.11/dist-packages (from pydantic>=1.8.0->fetch-my-weather) (0.7.0)\n",
            "Requirement already satisfied: pydantic-core==2.33.2 in /usr/local/lib/python3.11/dist-packages (from pydantic>=1.8.0->fetch-my-weather) (2.33.2)\n",
            "Requirement already satisfied: typing-extensions>=4.12.2 in /usr/local/lib/python3.11/dist-packages (from pydantic>=1.8.0->fetch-my-weather) (4.13.2)\n",
            "Requirement already satisfied: typing-inspection>=0.4.0 in /usr/local/lib/python3.11/dist-packages (from pydantic>=1.8.0->fetch-my-weather) (0.4.0)\n",
            "Requirement already satisfied: charset-normalizer<4,>=2 in /usr/local/lib/python3.11/dist-packages (from requests>=2.25.0->fetch-my-weather) (3.4.2)\n",
            "Requirement already satisfied: idna<4,>=2.5 in /usr/local/lib/python3.11/dist-packages (from requests>=2.25.0->fetch-my-weather) (3.10)\n",
            "Requirement already satisfied: urllib3<3,>=1.21.1 in /usr/local/lib/python3.11/dist-packages (from requests>=2.25.0->fetch-my-weather) (2.4.0)\n",
            "Requirement already satisfied: certifi>=2017.4.17 in /usr/local/lib/python3.11/dist-packages (from requests>=2.25.0->fetch-my-weather) (2025.4.26)\n",
            "Downloading fetch_my_weather-0.4.0-py3-none-any.whl (17 kB)\n",
            "Installing collected packages: fetch-my-weather\n",
            "Successfully installed fetch-my-weather-0.4.0\n",
            "Collecting hands-on-ai\n",
            "  Downloading hands_on_ai-0.1.9-py3-none-any.whl.metadata (4.7 kB)\n",
            "Requirement already satisfied: requests in /usr/local/lib/python3.11/dist-packages (from hands-on-ai) (2.32.3)\n",
            "Requirement already satisfied: typer in /usr/local/lib/python3.11/dist-packages (from hands-on-ai) (0.15.3)\n",
            "Collecting python-fasthtml (from hands-on-ai)\n",
            "  Downloading python_fasthtml-0.12.18-py3-none-any.whl.metadata (9.3 kB)\n",
            "Collecting python-docx (from hands-on-ai)\n",
            "  Downloading python_docx-1.1.2-py3-none-any.whl.metadata (2.0 kB)\n",
            "Collecting pymupdf (from hands-on-ai)\n",
            "  Downloading pymupdf-1.25.5-cp39-abi3-manylinux2014_x86_64.manylinux_2_17_x86_64.whl.metadata (3.4 kB)\n",
            "Requirement already satisfied: scikit-learn in /usr/local/lib/python3.11/dist-packages (from hands-on-ai) (1.6.1)\n",
            "Requirement already satisfied: numpy in /usr/local/lib/python3.11/dist-packages (from hands-on-ai) (2.0.2)\n",
            "Requirement already satisfied: lxml>=3.1.0 in /usr/local/lib/python3.11/dist-packages (from python-docx->hands-on-ai) (5.4.0)\n",
            "Requirement already satisfied: typing-extensions>=4.9.0 in /usr/local/lib/python3.11/dist-packages (from python-docx->hands-on-ai) (4.13.2)\n",
            "Collecting fastcore>=1.8.1 (from python-fasthtml->hands-on-ai)\n",
            "  Downloading fastcore-1.8.2-py3-none-any.whl.metadata (3.7 kB)\n",
            "Requirement already satisfied: python-dateutil in /usr/local/lib/python3.11/dist-packages (from python-fasthtml->hands-on-ai) (2.9.0.post0)\n",
            "Collecting starlette>0.33 (from python-fasthtml->hands-on-ai)\n",
            "  Downloading starlette-0.46.2-py3-none-any.whl.metadata (6.2 kB)\n",
            "Requirement already satisfied: oauthlib in /usr/local/lib/python3.11/dist-packages (from python-fasthtml->hands-on-ai) (3.2.2)\n",
            "Requirement already satisfied: itsdangerous in /usr/local/lib/python3.11/dist-packages (from python-fasthtml->hands-on-ai) (2.2.0)\n",
            "Collecting uvicorn>=0.30 (from uvicorn[standard]>=0.30->python-fasthtml->hands-on-ai)\n",
            "  Downloading uvicorn-0.34.2-py3-none-any.whl.metadata (6.5 kB)\n",
            "Requirement already satisfied: httpx in /usr/local/lib/python3.11/dist-packages (from python-fasthtml->hands-on-ai) (0.28.1)\n",
            "Collecting fastlite>=0.1.1 (from python-fasthtml->hands-on-ai)\n",
            "  Downloading fastlite-0.1.3-py3-none-any.whl.metadata (11 kB)\n",
            "Collecting python-multipart (from python-fasthtml->hands-on-ai)\n",
            "  Downloading python_multipart-0.0.20-py3-none-any.whl.metadata (1.8 kB)\n",
            "Requirement already satisfied: beautifulsoup4 in /usr/local/lib/python3.11/dist-packages (from python-fasthtml->hands-on-ai) (4.13.4)\n",
            "Requirement already satisfied: charset-normalizer<4,>=2 in /usr/local/lib/python3.11/dist-packages (from requests->hands-on-ai) (3.4.2)\n",
            "Requirement already satisfied: idna<4,>=2.5 in /usr/local/lib/python3.11/dist-packages (from requests->hands-on-ai) (3.10)\n",
            "Requirement already satisfied: urllib3<3,>=1.21.1 in /usr/local/lib/python3.11/dist-packages (from requests->hands-on-ai) (2.4.0)\n",
            "Requirement already satisfied: certifi>=2017.4.17 in /usr/local/lib/python3.11/dist-packages (from requests->hands-on-ai) (2025.4.26)\n",
            "Requirement already satisfied: scipy>=1.6.0 in /usr/local/lib/python3.11/dist-packages (from scikit-learn->hands-on-ai) (1.15.3)\n",
            "Requirement already satisfied: joblib>=1.2.0 in /usr/local/lib/python3.11/dist-packages (from scikit-learn->hands-on-ai) (1.5.0)\n",
            "Requirement already satisfied: threadpoolctl>=3.1.0 in /usr/local/lib/python3.11/dist-packages (from scikit-learn->hands-on-ai) (3.6.0)\n",
            "Requirement already satisfied: click>=8.0.0 in /usr/local/lib/python3.11/dist-packages (from typer->hands-on-ai) (8.2.0)\n",
            "Requirement already satisfied: shellingham>=1.3.0 in /usr/local/lib/python3.11/dist-packages (from typer->hands-on-ai) (1.5.4)\n",
            "Requirement already satisfied: rich>=10.11.0 in /usr/local/lib/python3.11/dist-packages (from typer->hands-on-ai) (13.9.4)\n",
            "Requirement already satisfied: packaging in /usr/local/lib/python3.11/dist-packages (from fastcore>=1.8.1->python-fasthtml->hands-on-ai) (24.2)\n",
            "Collecting apswutils>=0.0.2 (from fastlite>=0.1.1->python-fasthtml->hands-on-ai)\n",
            "  Downloading apswutils-0.0.2-py3-none-any.whl.metadata (7.1 kB)\n",
            "Requirement already satisfied: markdown-it-py>=2.2.0 in /usr/local/lib/python3.11/dist-packages (from rich>=10.11.0->typer->hands-on-ai) (3.0.0)\n",
            "Requirement already satisfied: pygments<3.0.0,>=2.13.0 in /usr/local/lib/python3.11/dist-packages (from rich>=10.11.0->typer->hands-on-ai) (2.19.1)\n",
            "Requirement already satisfied: anyio<5,>=3.6.2 in /usr/local/lib/python3.11/dist-packages (from starlette>0.33->python-fasthtml->hands-on-ai) (4.9.0)\n",
            "Requirement already satisfied: h11>=0.8 in /usr/local/lib/python3.11/dist-packages (from uvicorn>=0.30->uvicorn[standard]>=0.30->python-fasthtml->hands-on-ai) (0.16.0)\n",
            "Collecting httptools>=0.6.3 (from uvicorn[standard]>=0.30->python-fasthtml->hands-on-ai)\n",
            "  Downloading httptools-0.6.4-cp311-cp311-manylinux_2_5_x86_64.manylinux1_x86_64.manylinux_2_17_x86_64.manylinux2014_x86_64.whl.metadata (3.6 kB)\n",
            "Collecting python-dotenv>=0.13 (from uvicorn[standard]>=0.30->python-fasthtml->hands-on-ai)\n",
            "  Downloading python_dotenv-1.1.0-py3-none-any.whl.metadata (24 kB)\n",
            "Requirement already satisfied: pyyaml>=5.1 in /usr/local/lib/python3.11/dist-packages (from uvicorn[standard]>=0.30->python-fasthtml->hands-on-ai) (6.0.2)\n",
            "Collecting uvloop!=0.15.0,!=0.15.1,>=0.14.0 (from uvicorn[standard]>=0.30->python-fasthtml->hands-on-ai)\n",
            "  Downloading uvloop-0.21.0-cp311-cp311-manylinux_2_17_x86_64.manylinux2014_x86_64.whl.metadata (4.9 kB)\n",
            "Collecting watchfiles>=0.13 (from uvicorn[standard]>=0.30->python-fasthtml->hands-on-ai)\n",
            "  Downloading watchfiles-1.0.5-cp311-cp311-manylinux_2_17_x86_64.manylinux2014_x86_64.whl.metadata (4.9 kB)\n",
            "Requirement already satisfied: websockets>=10.4 in /usr/local/lib/python3.11/dist-packages (from uvicorn[standard]>=0.30->python-fasthtml->hands-on-ai) (15.0.1)\n",
            "Requirement already satisfied: soupsieve>1.2 in /usr/local/lib/python3.11/dist-packages (from beautifulsoup4->python-fasthtml->hands-on-ai) (2.7)\n",
            "Requirement already satisfied: httpcore==1.* in /usr/local/lib/python3.11/dist-packages (from httpx->python-fasthtml->hands-on-ai) (1.0.9)\n",
            "Requirement already satisfied: six>=1.5 in /usr/local/lib/python3.11/dist-packages (from python-dateutil->python-fasthtml->hands-on-ai) (1.17.0)\n",
            "Requirement already satisfied: sniffio>=1.1 in /usr/local/lib/python3.11/dist-packages (from anyio<5,>=3.6.2->starlette>0.33->python-fasthtml->hands-on-ai) (1.3.1)\n",
            "Collecting apsw (from apswutils>=0.0.2->fastlite>=0.1.1->python-fasthtml->hands-on-ai)\n",
            "  Downloading apsw-3.49.2.0-cp311-cp311-manylinux_2_17_x86_64.manylinux2014_x86_64.whl.metadata (3.7 kB)\n",
            "Requirement already satisfied: mdurl~=0.1 in /usr/local/lib/python3.11/dist-packages (from markdown-it-py>=2.2.0->rich>=10.11.0->typer->hands-on-ai) (0.1.2)\n",
            "Downloading hands_on_ai-0.1.9-py3-none-any.whl (132 kB)\n",
            "\u001b[2K   \u001b[90m━━━━━━━━━━━━━━━━━━━━━━━━━━━━━━━━━━━━━━━━\u001b[0m \u001b[32m132.3/132.3 kB\u001b[0m \u001b[31m4.5 MB/s\u001b[0m eta \u001b[36m0:00:00\u001b[0m\n",
            "\u001b[?25hDownloading pymupdf-1.25.5-cp39-abi3-manylinux2014_x86_64.manylinux_2_17_x86_64.whl (20.0 MB)\n",
            "\u001b[2K   \u001b[90m━━━━━━━━━━━━━━━━━━━━━━━━━━━━━━━━━━━━━━━━\u001b[0m \u001b[32m20.0/20.0 MB\u001b[0m \u001b[31m31.4 MB/s\u001b[0m eta \u001b[36m0:00:00\u001b[0m\n",
            "\u001b[?25hDownloading python_docx-1.1.2-py3-none-any.whl (244 kB)\n",
            "\u001b[2K   \u001b[90m━━━━━━━━━━━━━━━━━━━━━━━━━━━━━━━━━━━━━━━━\u001b[0m \u001b[32m244.3/244.3 kB\u001b[0m \u001b[31m16.8 MB/s\u001b[0m eta \u001b[36m0:00:00\u001b[0m\n",
            "\u001b[?25hDownloading python_fasthtml-0.12.18-py3-none-any.whl (69 kB)\n",
            "\u001b[2K   \u001b[90m━━━━━━━━━━━━━━━━━━━━━━━━━━━━━━━━━━━━━━━━\u001b[0m \u001b[32m69.9/69.9 kB\u001b[0m \u001b[31m4.2 MB/s\u001b[0m eta \u001b[36m0:00:00\u001b[0m\n",
            "\u001b[?25hDownloading fastcore-1.8.2-py3-none-any.whl (78 kB)\n",
            "\u001b[2K   \u001b[90m━━━━━━━━━━━━━━━━━━━━━━━━━━━━━━━━━━━━━━━━\u001b[0m \u001b[32m78.2/78.2 kB\u001b[0m \u001b[31m5.3 MB/s\u001b[0m eta \u001b[36m0:00:00\u001b[0m\n",
            "\u001b[?25hDownloading fastlite-0.1.3-py3-none-any.whl (17 kB)\n",
            "Downloading starlette-0.46.2-py3-none-any.whl (72 kB)\n",
            "\u001b[2K   \u001b[90m━━━━━━━━━━━━━━━━━━━━━━━━━━━━━━━━━━━━━━━━\u001b[0m \u001b[32m72.0/72.0 kB\u001b[0m \u001b[31m3.6 MB/s\u001b[0m eta \u001b[36m0:00:00\u001b[0m\n",
            "\u001b[?25hDownloading uvicorn-0.34.2-py3-none-any.whl (62 kB)\n",
            "\u001b[2K   \u001b[90m━━━━━━━━━━━━━━━━━━━━━━━━━━━━━━━━━━━━━━━━\u001b[0m \u001b[32m62.5/62.5 kB\u001b[0m \u001b[31m3.7 MB/s\u001b[0m eta \u001b[36m0:00:00\u001b[0m\n",
            "\u001b[?25hDownloading python_multipart-0.0.20-py3-none-any.whl (24 kB)\n",
            "Downloading apswutils-0.0.2-py3-none-any.whl (80 kB)\n",
            "\u001b[2K   \u001b[90m━━━━━━━━━━━━━━━━━━━━━━━━━━━━━━━━━━━━━━━━\u001b[0m \u001b[32m80.5/80.5 kB\u001b[0m \u001b[31m5.3 MB/s\u001b[0m eta \u001b[36m0:00:00\u001b[0m\n",
            "\u001b[?25hDownloading httptools-0.6.4-cp311-cp311-manylinux_2_5_x86_64.manylinux1_x86_64.manylinux_2_17_x86_64.manylinux2014_x86_64.whl (459 kB)\n",
            "\u001b[2K   \u001b[90m━━━━━━━━━━━━━━━━━━━━━━━━━━━━━━━━━━━━━━━━\u001b[0m \u001b[32m459.8/459.8 kB\u001b[0m \u001b[31m18.2 MB/s\u001b[0m eta \u001b[36m0:00:00\u001b[0m\n",
            "\u001b[?25hDownloading python_dotenv-1.1.0-py3-none-any.whl (20 kB)\n",
            "Downloading uvloop-0.21.0-cp311-cp311-manylinux_2_17_x86_64.manylinux2014_x86_64.whl (4.0 MB)\n",
            "\u001b[2K   \u001b[90m━━━━━━━━━━━━━━━━━━━━━━━━━━━━━━━━━━━━━━━━\u001b[0m \u001b[32m4.0/4.0 MB\u001b[0m \u001b[31m49.0 MB/s\u001b[0m eta \u001b[36m0:00:00\u001b[0m\n",
            "\u001b[?25hDownloading watchfiles-1.0.5-cp311-cp311-manylinux_2_17_x86_64.manylinux2014_x86_64.whl (454 kB)\n",
            "\u001b[2K   \u001b[90m━━━━━━━━━━━━━━━━━━━━━━━━━━━━━━━━━━━━━━━━\u001b[0m \u001b[32m454.8/454.8 kB\u001b[0m \u001b[31m20.4 MB/s\u001b[0m eta \u001b[36m0:00:00\u001b[0m\n",
            "\u001b[?25hDownloading apsw-3.49.2.0-cp311-cp311-manylinux_2_17_x86_64.manylinux2014_x86_64.whl (6.4 MB)\n",
            "\u001b[2K   \u001b[90m━━━━━━━━━━━━━━━━━━━━━━━━━━━━━━━━━━━━━━━━\u001b[0m \u001b[32m6.4/6.4 MB\u001b[0m \u001b[31m71.8 MB/s\u001b[0m eta \u001b[36m0:00:00\u001b[0m\n",
            "\u001b[?25hInstalling collected packages: uvloop, uvicorn, python-multipart, python-dotenv, python-docx, pymupdf, httptools, fastcore, apsw, watchfiles, starlette, apswutils, fastlite, python-fasthtml, hands-on-ai\n",
            "  Attempting uninstall: fastcore\n",
            "    Found existing installation: fastcore 1.7.29\n",
            "    Uninstalling fastcore-1.7.29:\n",
            "      Successfully uninstalled fastcore-1.7.29\n",
            "\u001b[31mERROR: pip's dependency resolver does not currently take into account all the packages that are installed. This behaviour is the source of the following dependency conflicts.\n",
            "fastai 2.7.19 requires fastcore<1.8,>=1.5.29, but you have fastcore 1.8.2 which is incompatible.\u001b[0m\u001b[31m\n",
            "\u001b[0mSuccessfully installed apsw-3.49.2.0 apswutils-0.0.2 fastcore-1.8.2 fastlite-0.1.3 hands-on-ai-0.1.9 httptools-0.6.4 pymupdf-1.25.5 python-docx-1.1.2 python-dotenv-1.1.0 python-fasthtml-0.12.18 python-multipart-0.0.20 starlette-0.46.2 uvicorn-0.34.2 uvloop-0.21.0 watchfiles-1.0.5\n",
            "Collecting pyinputplus\n",
            "  Downloading PyInputPlus-0.2.12.tar.gz (20 kB)\n",
            "  Installing build dependencies ... \u001b[?25l\u001b[?25hdone\n",
            "  Getting requirements to build wheel ... \u001b[?25l\u001b[?25hdone\n",
            "  Preparing metadata (pyproject.toml) ... \u001b[?25l\u001b[?25hdone\n",
            "Collecting pysimplevalidate>=0.2.7 (from pyinputplus)\n",
            "  Downloading PySimpleValidate-0.2.12.tar.gz (22 kB)\n",
            "  Installing build dependencies ... \u001b[?25l\u001b[?25hdone\n",
            "  Getting requirements to build wheel ... \u001b[?25l\u001b[?25hdone\n",
            "  Preparing metadata (pyproject.toml) ... \u001b[?25l\u001b[?25hdone\n",
            "Collecting stdiomask>=0.0.3 (from pyinputplus)\n",
            "  Downloading stdiomask-0.0.6.tar.gz (3.6 kB)\n",
            "  Installing build dependencies ... \u001b[?25l\u001b[?25hdone\n",
            "  Getting requirements to build wheel ... \u001b[?25l\u001b[?25hdone\n",
            "  Preparing metadata (pyproject.toml) ... \u001b[?25l\u001b[?25hdone\n",
            "Building wheels for collected packages: pyinputplus, pysimplevalidate, stdiomask\n",
            "  Building wheel for pyinputplus (pyproject.toml) ... \u001b[?25l\u001b[?25hdone\n",
            "  Created wheel for pyinputplus: filename=pyinputplus-0.2.12-py3-none-any.whl size=11349 sha256=3d374ec1a8b8fb7ea28d3e82cc4303135cd08dff47758744b27566b79302723c\n",
            "  Stored in directory: /root/.cache/pip/wheels/a3/6b/89/3bec14288af8e0729d088fb41a785e583d49e772f2529c7676\n",
            "  Building wheel for pysimplevalidate (pyproject.toml) ... \u001b[?25l\u001b[?25hdone\n",
            "  Created wheel for pysimplevalidate: filename=pysimplevalidate-0.2.12-py3-none-any.whl size=16224 sha256=9f317ad81f26e1365c864a34a61282c386effc642c0114762e248b1bdbc7306d\n",
            "  Stored in directory: /root/.cache/pip/wheels/fc/40/7a/4d3b2dc2e80b4b3bbda89eec94fcefd6c8bd1101cc7bb89554\n",
            "  Building wheel for stdiomask (pyproject.toml) ... \u001b[?25l\u001b[?25hdone\n",
            "  Created wheel for stdiomask: filename=stdiomask-0.0.6-py3-none-any.whl size=3356 sha256=12ba5f23d4d5fd8ca339d8853f53ab4b956d726870c9017028f8a86493b77f32\n",
            "  Stored in directory: /root/.cache/pip/wheels/19/0c/90/5ee0da7cf06ff7e233f273063797785d5eabf0ab9f04220866\n",
            "Successfully built pyinputplus pysimplevalidate stdiomask\n",
            "Installing collected packages: stdiomask, pysimplevalidate, pyinputplus\n",
            "Successfully installed pyinputplus-0.2.12 pysimplevalidate-0.2.12 stdiomask-0.0.6\n",
            "Collecting mcp\n",
            "  Downloading mcp-1.9.0-py3-none-any.whl.metadata (26 kB)\n",
            "Requirement already satisfied: anyio>=4.5 in /usr/local/lib/python3.11/dist-packages (from mcp) (4.9.0)\n",
            "Collecting httpx-sse>=0.4 (from mcp)\n",
            "  Downloading httpx_sse-0.4.0-py3-none-any.whl.metadata (9.0 kB)\n",
            "Requirement already satisfied: httpx>=0.27 in /usr/local/lib/python3.11/dist-packages (from mcp) (0.28.1)\n",
            "Collecting pydantic-settings>=2.5.2 (from mcp)\n",
            "  Downloading pydantic_settings-2.9.1-py3-none-any.whl.metadata (3.8 kB)\n",
            "Requirement already satisfied: pydantic<3.0.0,>=2.7.2 in /usr/local/lib/python3.11/dist-packages (from mcp) (2.11.4)\n",
            "Requirement already satisfied: python-multipart>=0.0.9 in /usr/local/lib/python3.11/dist-packages (from mcp) (0.0.20)\n",
            "Collecting sse-starlette>=1.6.1 (from mcp)\n",
            "  Downloading sse_starlette-2.3.5-py3-none-any.whl.metadata (7.8 kB)\n",
            "Requirement already satisfied: starlette>=0.27 in /usr/local/lib/python3.11/dist-packages (from mcp) (0.46.2)\n",
            "Requirement already satisfied: uvicorn>=0.23.1 in /usr/local/lib/python3.11/dist-packages (from mcp) (0.34.2)\n",
            "Requirement already satisfied: idna>=2.8 in /usr/local/lib/python3.11/dist-packages (from anyio>=4.5->mcp) (3.10)\n",
            "Requirement already satisfied: sniffio>=1.1 in /usr/local/lib/python3.11/dist-packages (from anyio>=4.5->mcp) (1.3.1)\n",
            "Requirement already satisfied: typing_extensions>=4.5 in /usr/local/lib/python3.11/dist-packages (from anyio>=4.5->mcp) (4.13.2)\n",
            "Requirement already satisfied: certifi in /usr/local/lib/python3.11/dist-packages (from httpx>=0.27->mcp) (2025.4.26)\n",
            "Requirement already satisfied: httpcore==1.* in /usr/local/lib/python3.11/dist-packages (from httpx>=0.27->mcp) (1.0.9)\n",
            "Requirement already satisfied: h11>=0.16 in /usr/local/lib/python3.11/dist-packages (from httpcore==1.*->httpx>=0.27->mcp) (0.16.0)\n",
            "Requirement already satisfied: annotated-types>=0.6.0 in /usr/local/lib/python3.11/dist-packages (from pydantic<3.0.0,>=2.7.2->mcp) (0.7.0)\n",
            "Requirement already satisfied: pydantic-core==2.33.2 in /usr/local/lib/python3.11/dist-packages (from pydantic<3.0.0,>=2.7.2->mcp) (2.33.2)\n",
            "Requirement already satisfied: typing-inspection>=0.4.0 in /usr/local/lib/python3.11/dist-packages (from pydantic<3.0.0,>=2.7.2->mcp) (0.4.0)\n",
            "Requirement already satisfied: python-dotenv>=0.21.0 in /usr/local/lib/python3.11/dist-packages (from pydantic-settings>=2.5.2->mcp) (1.1.0)\n",
            "Requirement already satisfied: click>=7.0 in /usr/local/lib/python3.11/dist-packages (from uvicorn>=0.23.1->mcp) (8.2.0)\n",
            "Downloading mcp-1.9.0-py3-none-any.whl (125 kB)\n",
            "\u001b[2K   \u001b[90m━━━━━━━━━━━━━━━━━━━━━━━━━━━━━━━━━━━━━━━━\u001b[0m \u001b[32m125.1/125.1 kB\u001b[0m \u001b[31m4.5 MB/s\u001b[0m eta \u001b[36m0:00:00\u001b[0m\n",
            "\u001b[?25hDownloading httpx_sse-0.4.0-py3-none-any.whl (7.8 kB)\n",
            "Downloading pydantic_settings-2.9.1-py3-none-any.whl (44 kB)\n",
            "\u001b[2K   \u001b[90m━━━━━━━━━━━━━━━━━━━━━━━━━━━━━━━━━━━━━━━━\u001b[0m \u001b[32m44.4/44.4 kB\u001b[0m \u001b[31m2.7 MB/s\u001b[0m eta \u001b[36m0:00:00\u001b[0m\n",
            "\u001b[?25hDownloading sse_starlette-2.3.5-py3-none-any.whl (10 kB)\n",
            "Installing collected packages: httpx-sse, sse-starlette, pydantic-settings, mcp\n",
            "Successfully installed httpx-sse-0.4.0 mcp-1.9.0 pydantic-settings-2.9.1 sse-starlette-2.3.5\n"
          ]
        }
      ],
      "source": [
        "# 🧪 Optional packages — uncomment if needed in Colab or JupyterHub\n",
        "!pip install fetch-my-weather\n",
        "!pip install hands-on-ai\n",
        "!pip install pyinputplus\n",
        "!pip install mcp\n"
      ]
    },
    {
      "cell_type": "code",
      "source": [
        "import os\n",
        "\n",
        "os.environ['HANDS_ON_AI_SERVER'] = 'http://ollama.serveur.au'\n",
        "import pyinputplus as pyip\n",
        "from mcp.server.fastmcp import FastMCP\n",
        "os.environ['HANDS_ON_AI_MODEL'] = 'granite3.2'\n",
        "os.environ['HANDS_ON_AI_API_KEY'] = input('Enter your API key: ')"
      ],
      "metadata": {
        "id": "B2JKlJfrGgIb",
        "colab": {
          "base_uri": "https://localhost:8080/"
        },
        "outputId": "36484820-f890-44d1-d451-b58acb8dc7f6"
      },
      "id": "B2JKlJfrGgIb",
      "execution_count": 47,
      "outputs": [
        {
          "name": "stdout",
          "output_type": "stream",
          "text": [
            "Enter your API key: aabb92d590c9b7c0c5741eae5c5768f7\n"
          ]
        }
      ]
    },
    {
      "cell_type": "markdown",
      "id": "59ae7543",
      "metadata": {
        "id": "59ae7543"
      },
      "source": [
        "## 📦 Setup and Configuration\n",
        "Import required packages and setup environment."
      ]
    },
    {
      "cell_type": "code",
      "execution_count": 48,
      "id": "f1dd051e",
      "metadata": {
        "id": "f1dd051e",
        "colab": {
          "base_uri": "https://localhost:8080/"
        },
        "outputId": "cb98939c-dbb9-40f6-90b3-459a4b92f761"
      },
      "outputs": [
        {
          "output_type": "stream",
          "name": "stdout",
          "text": [
            "Requirement already satisfied: libarchive in /usr/local/lib/python3.11/dist-packages (0.4.7)\n",
            "Requirement already satisfied: nose in /usr/local/lib/python3.11/dist-packages (from libarchive) (1.3.7)\n"
          ]
        }
      ],
      "source": [
        "import requests\n",
        "import matplotlib.pyplot as plt\n",
        "import pyinputplus as pyip\n",
        "# ✅ Import after installing (if needed)\n",
        "from fetch_my_weather import get_weather\n",
        "from hands_on_ai.chat import get_response\n",
        "from mcp.server.fastmcp import FastMCP\n",
        "\n",
        "# https://pypi.python.org/pypi/libarchive\n",
        "!apt-get -qq install -y libarchive-dev && pip install -U libarchive\n",
        "import libarchive"
      ]
    },
    {
      "cell_type": "markdown",
      "id": "f736ade3",
      "metadata": {
        "id": "f736ade3"
      },
      "source": [
        "## 🌤️ Weather Data Functions"
      ]
    },
    {
      "cell_type": "code",
      "execution_count": 49,
      "id": "7a2c7cd0",
      "metadata": {
        "id": "7a2c7cd0",
        "colab": {
          "base_uri": "https://localhost:8080/"
        },
        "outputId": "a27320e7-722d-4327-9c01-e41011c0e323"
      },
      "outputs": [
        {
          "output_type": "stream",
          "name": "stdout",
          "text": [
            "Current weather in Perth, Australia:\n",
            "  Temperature: 24.56°C\n",
            "  Weather: scattered clouds\n",
            "  Humidity: 49%\n",
            "  Wind Speed: 8.23 m/s\n",
            "----------------------------------------\n",
            "Forecast for 2025-05-19:\n",
            "  Avg Temperature: 19.3°C\n",
            "  Common Weather: light rain\n",
            "  Number of Forecast Entries: 4\n",
            "--------------------\n",
            "Forecast for 2025-05-20:\n",
            "  Avg Temperature: 16.2°C\n",
            "  Common Weather: clear sky\n",
            "  Number of Forecast Entries: 8\n",
            "--------------------\n",
            "Forecast for 2025-05-21:\n",
            "  Avg Temperature: 18.5°C\n",
            "  Common Weather: clear sky\n",
            "  Number of Forecast Entries: 8\n",
            "--------------------\n"
          ]
        }
      ],
      "source": [
        "import requests\n",
        "from datetime import datetime, timedelta, timezone\n",
        "\n",
        "API_KEY = \"171da0cb2cafbdcb201c75a79a05f1b9\"  # Replace with your actual API key if needed\n",
        "\n",
        "def get_weather_data(location=\"Perth, Australia\", forecast_days=3):\n",
        "    try:\n",
        "        # Get current weather (also to find coordinates)\n",
        "        url_current = (\n",
        "            f\"https://api.openweathermap.org/data/2.5/weather?\"\n",
        "            f\"q={location}&appid={API_KEY}&units=metric\"\n",
        "        )\n",
        "        res_current = requests.get(url_current)\n",
        "        res_current.raise_for_status()\n",
        "        data_current = res_current.json()\n",
        "\n",
        "        lat = data_current['coord']['lat']\n",
        "        lon = data_current['coord']['lon']\n",
        "\n",
        "        # Get 5-day forecast (3-hour intervals)\n",
        "        url_forecast = (\n",
        "            f\"https://api.openweathermap.org/data/2.5/forecast?\"\n",
        "            f\"lat={lat}&lon={lon}&appid={API_KEY}&units=metric\"\n",
        "        )\n",
        "        res_forecast = requests.get(url_forecast)\n",
        "        res_forecast.raise_for_status()\n",
        "        data_forecast = res_forecast.json()\n",
        "\n",
        "        # Use timezone offset from current weather\n",
        "        tz_seconds = data_current.get('timezone', 0)\n",
        "        tz = timezone(timedelta(seconds=tz_seconds))\n",
        "        today = datetime.now(tz).date()\n",
        "\n",
        "        days_forecast = {}\n",
        "\n",
        "        # Group forecast entries by day (only next forecast_days days)\n",
        "        for entry in data_forecast['list']:\n",
        "            dt = datetime.fromtimestamp(entry['dt'], tz)\n",
        "            day = dt.date()\n",
        "            if 0 <= (day - today).days < forecast_days:\n",
        "                days_forecast.setdefault(day, []).append(entry)\n",
        "\n",
        "        # Print current weather summary\n",
        "        print(f\"Current weather in {location}:\")\n",
        "        print(f\"  Temperature: {data_current['main']['temp']}°C\")\n",
        "        print(f\"  Weather: {data_current['weather'][0]['description']}\")\n",
        "        print(f\"  Humidity: {data_current['main']['humidity']}%\")\n",
        "        print(f\"  Wind Speed: {data_current['wind']['speed']} m/s\")\n",
        "        print(\"-\" * 40)\n",
        "\n",
        "        # Print daily forecast summary\n",
        "        for day, entries in sorted(days_forecast.items()):\n",
        "            temps = [e['main']['temp'] for e in entries]\n",
        "            descriptions = [e['weather'][0]['description'] for e in entries]\n",
        "            avg_temp = sum(temps) / len(temps)\n",
        "            common_desc = max(set(descriptions), key=descriptions.count)\n",
        "            print(f\"Forecast for {day}:\")\n",
        "            print(f\"  Avg Temperature: {avg_temp:.1f}°C\")\n",
        "            print(f\"  Common Weather: {common_desc}\")\n",
        "            print(f\"  Number of Forecast Entries: {len(entries)}\")\n",
        "            print(\"-\" * 20)\n",
        "\n",
        "    except requests.RequestException as e:\n",
        "        print(f\"Request failed: {e}\")\n",
        "    except KeyError as e:\n",
        "        print(f\"Missing expected data in response: {e}\")\n",
        "\n",
        "if __name__ == \"__main__\":\n",
        "    get_weather_data()\n"
      ]
    },
    {
      "cell_type": "markdown",
      "id": "8a744fdc",
      "metadata": {
        "id": "8a744fdc"
      },
      "source": [
        "## 📊 Visualisation Functions"
      ]
    },
    {
      "cell_type": "code",
      "execution_count": 50,
      "id": "9dc3bf85",
      "metadata": {
        "id": "9dc3bf85",
        "colab": {
          "base_uri": "https://localhost:8080/",
          "height": 493
        },
        "outputId": "0f3b20f8-a404-4126-f856-20bf76b88d79"
      },
      "outputs": [
        {
          "output_type": "display_data",
          "data": {
            "text/plain": [
              "<Figure size 800x500 with 1 Axes>"
            ],
            "image/png": "[encoded data removed]"
          },
          "metadata": {}
        }
      ],
      "source": [
        "import matplotlib.pyplot as plt\n",
        "\n",
        "def create_temperature_visualisation(weather_data, output_type='display'):\n",
        "    \"\"\"\n",
        "    Create visualisation of temperature data.\n",
        "\n",
        "    Args:\n",
        "        weather_data (dict): The processed weather data\n",
        "        output_type (str): Either 'display' to show in notebook or 'figure' to return the figure\n",
        "\n",
        "    Returns:\n",
        "        If output_type is 'figure', returns the matplotlib figure object\n",
        "        Otherwise, displays the visualisation in the notebook\n",
        "    \"\"\"\n",
        "    # Extract data for visualization\n",
        "    days = list(weather_data.keys())\n",
        "    avg_temperatures = [weather_data[day]['avg_temp'] for day in days]\n",
        "\n",
        "    # Create the bar chart\n",
        "    fig, ax = plt.subplots(figsize=(8, 5))\n",
        "    ax.bar(days, avg_temperatures, color='skyblue', edgecolor='black')\n",
        "    ax.set_title(\"Average Daily Temperatures in Perth\", fontsize=16)\n",
        "    ax.set_xlabel(\"Date\", fontsize=12)\n",
        "    ax.set_ylabel(\"Average Temperature (°C)\", fontsize=12)\n",
        "    ax.grid(axis='y', linestyle='--', alpha=0.7)\n",
        "    ax.set_ylim(0, max(avg_temperatures) + 5)\n",
        "\n",
        "    # Annotate values on bars\n",
        "    for i, temp in enumerate(avg_temperatures):\n",
        "        ax.text(i, temp + 0.5, f\"{temp:.1f}°C\", ha='center', fontsize=10)\n",
        "\n",
        "    # Handle output type\n",
        "    if output_type == 'figure':\n",
        "        return fig\n",
        "    else:\n",
        "        plt.show()\n",
        "\n",
        "# Example data matching your scenario\n",
        "weather_data = {\n",
        "    \"2025-05-19\": {\"avg_temp\": 18.3, \"common_weather\": \"few clouds\", \"entries\": 4},\n",
        "    \"2025-05-20\": {\"avg_temp\": 16.2, \"common_weather\": \"clear sky\", \"entries\": 8},\n",
        "    \"2025-05-21\": {\"avg_temp\": 18.5, \"common_weather\": \"clear sky\", \"entries\": 8},\n",
        "}\n",
        "\n",
        "# Call the function to visualize data\n",
        "create_temperature_visualisation(weather_data)\n"
      ]
    },
    {
      "cell_type": "code",
      "source": [
        "import matplotlib.pyplot as plt\n",
        "\n",
        "def create_precipitation_visualisation(weather_data, output_type='display'):\n",
        "    \"\"\"\n",
        "    Create visualisation of precipitation data.\n",
        "\n",
        "    Args:\n",
        "        weather_data (dict): The processed weather data\n",
        "        output_type (str): Either 'display' to show in notebook or 'figure' to return the figure\n",
        "\n",
        "    Returns:\n",
        "        If output_type is 'figure', returns the matplotlib figure object\n",
        "        Otherwise, displays the visualisation in the notebook\n",
        "    \"\"\"\n",
        "    # Extract data for visualization\n",
        "    days = list(weather_data.keys())\n",
        "    precipitation_data = [weather_data[day].get('precipitation', 0) for day in days]\n",
        "\n",
        "    # Create the bar chart\n",
        "    fig, ax = plt.subplots(figsize=(8, 5))\n",
        "    bars = ax.bar(days, precipitation_data, color='royalblue', edgecolor='black')\n",
        "\n",
        "    # Add labels and title\n",
        "    ax.set_title(\"Daily Precipitation Levels in Perth\", fontsize=16)\n",
        "    ax.set_xlabel(\"Date\", fontsize=12)\n",
        "    ax.set_ylabel(\"Precipitation (mm)\", fontsize=12)\n",
        "    ax.set_ylim(0, max(precipitation_data) + 5)\n",
        "    ax.grid(axis='y', linestyle='--', alpha=0.7)\n",
        "\n",
        "    # Annotate the bar chart with precipitation values\n",
        "    for bar, precip in zip(bars, precipitation_data):\n",
        "        ax.text(\n",
        "            bar.get_x() + bar.get_width() / 2,\n",
        "            bar.get_height() + 0.2,\n",
        "            f\"{precip:.1f} mm\",\n",
        "            ha='center',\n",
        "            va='bottom',\n",
        "            fontsize=10\n",
        "        )\n",
        "\n",
        "    # Handle output type\n",
        "    if output_type == 'figure':\n",
        "        return fig\n",
        "    else:\n",
        "        plt.show()\n",
        "\n",
        "# Example data matching your scenario\n",
        "weather_data = {\n",
        "    \"2025-05-19\": {\"avg_temp\": 18.3, \"common_weather\": \"few clouds\", \"entries\": 4, \"precipitation\": 1.2},\n",
        "    \"2025-05-20\": {\"avg_temp\": 16.2, \"common_weather\": \"clear sky\", \"entries\": 8, \"precipitation\": 0.0},\n",
        "    \"2025-05-21\": {\"avg_temp\": 18.5, \"common_weather\": \"clear sky\", \"entries\": 8, \"precipitation\": 0.5},\n",
        "}\n",
        "\n",
        "# Call the function to visualize precipitation data\n",
        "create_precipitation_visualisation(weather_data)\n"
      ],
      "metadata": {
        "id": "HpOlQylYG5Ho",
        "colab": {
          "base_uri": "https://localhost:8080/",
          "height": 493
        },
        "outputId": "5669a58f-02f2-46d2-8816-5aa6b306972e"
      },
      "id": "HpOlQylYG5Ho",
      "execution_count": 51,
      "outputs": [
        {
          "output_type": "display_data",
          "data": {
            "text/plain": [
              "<Figure size 800x500 with 1 Axes>"
            ],
            "image/png": "[encoded data removed]"
          },
          "metadata": {}
        }
      ]
    },
    {
      "cell_type": "markdown",
      "id": "9f95d160",
      "metadata": {
        "id": "9f95d160"
      },
      "source": [
        "## 🤖 Natural Language Processing"
      ]
    },
    {
      "cell_type": "code",
      "execution_count": 52,
      "id": "bcc5833e",
      "metadata": {
        "id": "bcc5833e",
        "colab": {
          "base_uri": "https://localhost:8080/"
        },
        "outputId": "a5603178-44ec-464c-fc8e-8001441050f3"
      },
      "outputs": [
        {
          "output_type": "stream",
          "name": "stdout",
          "text": [
            "{'location': 'perth', 'time_period': 'tomorrow', 'attribute': 'temperature'}\n"
          ]
        }
      ],
      "source": [
        "import re\n",
        "\n",
        "def parse_weather_question(question):\n",
        "    \"\"\"\n",
        "    Parse a natural language weather question.\n",
        "\n",
        "    Args:\n",
        "        question (str): User's weather-related question\n",
        "\n",
        "    Returns:\n",
        "        dict: Extracted info: location, time period, weather attribute\n",
        "    \"\"\"\n",
        "    question = question.lower().strip()\n",
        "\n",
        "    # Identify time period\n",
        "    if \"tomorrow\" in question:\n",
        "        time_period = \"tomorrow\"\n",
        "    elif \"today\" in question:\n",
        "        time_period = \"today\"\n",
        "    else:\n",
        "        time_period = \"today\"  # default\n",
        "\n",
        "    # Identify weather attribute\n",
        "    if \"temperature\" in question:\n",
        "        attribute = \"temperature\"\n",
        "    elif \"rain\" in question or \"precipitation\" in question:\n",
        "        attribute = \"rain\"\n",
        "    elif \"humidity\" in question:\n",
        "        attribute = \"humidity\"\n",
        "    elif \"wind\" in question:\n",
        "        attribute = \"wind\"\n",
        "    else:\n",
        "        attribute = \"weather\"\n",
        "\n",
        "    # Extract location by removing stop words\n",
        "    stop_words = {\n",
        "        \"what\", \"will\", \"be\", \"the\", \"in\", \"today\", \"tomorrow\",\n",
        "        \"temperature\", \"rain\", \"precipitation\", \"humidity\", \"wind\", \"weather\", \"?\", \".\"\n",
        "    }\n",
        "\n",
        "    # Remove punctuation\n",
        "    question_no_punct = re.sub(r'[^\\w\\s]', '', question)\n",
        "\n",
        "    # Filter out stop words\n",
        "    location_words = [word for word in question_no_punct.split() if word not in stop_words]\n",
        "\n",
        "    location = \" \".join(location_words).strip()\n",
        "\n",
        "    return {\n",
        "        \"location\": location,\n",
        "        \"time_period\": time_period,\n",
        "        \"attribute\": attribute,\n",
        "    }\n",
        "question = \"What will the temperature be in Perth tomorrow?\"\n",
        "parsed = parse_weather_question(question)\n",
        "print(parsed)\n"
      ]
    },
    {
      "cell_type": "markdown",
      "id": "0d85225e",
      "metadata": {
        "id": "0d85225e"
      },
      "source": [
        "## 🧭 User Interface"
      ]
    },
    {
      "cell_type": "code",
      "execution_count": 54,
      "id": "fa6cb0f6",
      "metadata": {
        "id": "fa6cb0f6",
        "colab": {
          "base_uri": "https://localhost:8080/"
        },
        "outputId": "8a767286-7c6c-47f9-c9e4-26be6a28a805"
      },
      "outputs": [
        {
          "output_type": "stream",
          "name": "stdout",
          "text": [
            "Welcome to Weather Advisor!\n",
            "Enter the city/location name (e.g., Perth): perth\n",
            "Select time period (today/tomorrow): today\n",
            "Select weather attribute ['temperature', 'rain', 'humidity', 'wind', 'weather']: temperature\n",
            "\n",
            "You asked: What is the temperature in perth today?\n",
            "\n",
            "The temperature in Perth today? today is 25.\n",
            "\n",
            "----------------------------------------\n",
            "Would you like to check another weather report? (yes/no): yes\n",
            "Enter the city/location name (e.g., Perth): perth\n",
            "Select time period (today/tomorrow): tomorrow\n",
            "Select weather attribute ['temperature', 'rain', 'humidity', 'wind', 'weather']: rain\n",
            "\n",
            "You asked: What is the rain in perth tomorrow?\n",
            "\n",
            "The rain in Perth tomorrow? tomorrow is no rain.\n",
            "\n",
            "----------------------------------------\n",
            "Would you like to check another weather report? (yes/no): no\n",
            "Thanks for using Weather Advisor! Goodbye!\n"
          ]
        }
      ],
      "source": [
        "def parse_weather_question(question):\n",
        "    question = question.lower()\n",
        "    time_period = \"today\"\n",
        "    if \"tomorrow\" in question:\n",
        "        time_period = \"tomorrow\"\n",
        "\n",
        "    attribute = \"temperature\"\n",
        "    for attr in [\"temperature\", \"rain\", \"humidity\", \"wind\", \"weather\"]:\n",
        "        if attr in question:\n",
        "            attribute = attr\n",
        "            break\n",
        "\n",
        "    # Extract location by removing known words\n",
        "    words_to_remove = [\"what\", \"is\", \"the\", \"in\", \"today\", \"tomorrow\", \"temperature\", \"rain\", \"humidity\", \"wind\", \"weather\", \"?\"]\n",
        "    location_words = [w for w in question.split() if w not in words_to_remove]\n",
        "    location = \" \".join(location_words).strip()\n",
        "    if not location:\n",
        "        location = \"Perth\"  # default location\n",
        "\n",
        "    return {\n",
        "        \"location\": location,\n",
        "        \"time_period\": time_period,\n",
        "        \"attribute\": attribute,\n",
        "    }\n",
        "\n",
        "def get_weather_data(location):\n",
        "    # Dummy weather data for demonstration\n",
        "    return {\n",
        "        \"current\": {\n",
        "            \"temperature\": 25,\n",
        "            \"rain\": \"light rain\",\n",
        "            \"humidity\": 60,\n",
        "            \"wind\": 5,\n",
        "            \"weather\": \"cloudy\",\n",
        "        },\n",
        "        \"forecast\": {\n",
        "            \"tomorrow\": {\n",
        "                \"temperature\": 22,\n",
        "                \"rain\": \"no rain\",\n",
        "                \"humidity\": 55,\n",
        "                \"wind\": 4,\n",
        "                \"weather\": \"sunny\",\n",
        "            }\n",
        "        }\n",
        "    }\n",
        "\n",
        "def generate_weather_response(parsed_question, weather_data):\n",
        "    loc = parsed_question[\"location\"].capitalize()\n",
        "    time = parsed_question[\"time_period\"]\n",
        "    attr = parsed_question[\"attribute\"]\n",
        "\n",
        "    if time == \"today\":\n",
        "        value = weather_data[\"current\"].get(attr, \"N/A\")\n",
        "    else:  # tomorrow or other\n",
        "        value = weather_data.get(\"forecast\", {}).get(time, {}).get(attr, None)\n",
        "        if value is None:\n",
        "            return f\"Sorry, no forecast data for {time} in {loc}.\"\n",
        "\n",
        "    return f\"The {attr} in {loc} {time} is {value}.\"\n",
        "\n",
        "def weather_menu():\n",
        "    print(\"Welcome to Weather Advisor!\")\n",
        "\n",
        "    while True:\n",
        "        location = input(\"Enter the city/location name (e.g., Perth): \").strip()\n",
        "        time_period = \"\"\n",
        "        while time_period not in [\"today\", \"tomorrow\"]:\n",
        "            time_period = input(\"Select time period (today/tomorrow): \").strip().lower()\n",
        "        attribute = \"\"\n",
        "        valid_attrs = [\"temperature\", \"rain\", \"humidity\", \"wind\", \"weather\"]\n",
        "        while attribute not in valid_attrs:\n",
        "            attribute = input(f\"Select weather attribute {valid_attrs}: \").strip().lower()\n",
        "\n",
        "        question = f\"What is the {attribute} in {location} {time_period}?\"\n",
        "        print(f\"\\nYou asked: {question}\")\n",
        "\n",
        "        parsed = parse_weather_question(question)\n",
        "        weather_data = get_weather_data(parsed[\"location\"])\n",
        "        response = generate_weather_response(parsed, weather_data)\n",
        "\n",
        "        print(\"\\n\" + response)\n",
        "        print(\"\\n\" + \"-\"*40)\n",
        "\n",
        "        cont = input(\"Would you like to check another weather report? (yes/no): \").strip().lower()\n",
        "        if cont != \"yes\":\n",
        "            print(\"Thanks for using Weather Advisor! Goodbye!\")\n",
        "            break\n",
        "\n",
        "if __name__ == \"__main__\":\n",
        "    weather_menu()\n",
        ""
      ]
    },
    {
      "cell_type": "markdown",
      "id": "d643a53c",
      "metadata": {
        "id": "d643a53c"
      },
      "source": [
        "## 🧩 Main Application Logic"
      ]
    },
    {
      "cell_type": "code",
      "execution_count": 55,
      "id": "a9e2e805",
      "metadata": {
        "id": "a9e2e805",
        "colab": {
          "base_uri": "https://localhost:8080/"
        },
        "outputId": "d2992252-ca45-4d90-f0a9-0a933dcccd21"
      },
      "outputs": [
        {
          "output_type": "stream",
          "name": "stdout",
          "text": [
            "The temperature in Perth today is 24.87.\n"
          ]
        }
      ],
      "source": [
        "sample_parsed_question = {\n",
        "    'location': 'Perth',\n",
        "    'time_period': 'today',\n",
        "    'attribute': 'temperature'\n",
        "}\n",
        "\n",
        "sample_weather_data = {\n",
        "    'current': {\n",
        "        'temperature': 24.87,\n",
        "        'rain': 0,\n",
        "        'humidity': 52,\n",
        "        'wind_speed': 8.23,\n",
        "        'weather': 'scattered clouds'\n",
        "    },\n",
        "    'forecast': {\n",
        "        'tomorrow': {\n",
        "            'avg_temp': 19.2,\n",
        "            'rain': 1.2,\n",
        "            'avg_humidity': 60,\n",
        "            'avg_wind_speed': 5.0,\n",
        "            'common_weather': 'light rain'\n",
        "        }\n",
        "    }\n",
        "}\n",
        "\n",
        "print(generate_weather_response(sample_parsed_question, sample_weather_data))\n"
      ]
    },
    {
      "cell_type": "markdown",
      "id": "fde44479",
      "metadata": {
        "id": "fde44479"
      },
      "source": [
        "## 🧪 Testing and Examples"
      ]
    },
    {
      "cell_type": "code",
      "execution_count": 63,
      "id": "4e573901",
      "metadata": {
        "id": "4e573901",
        "colab": {
          "base_uri": "https://localhost:8080/"
        },
        "outputId": "91aa844d-ecc0-4a5e-86b2-da37018e5dca"
      },
      "outputs": [
        {
          "output_type": "stream",
          "name": "stdout",
          "text": [
            "The current temperature in Perth is 24.87°C.\n",
            "No rain is expected in Perth tomorrow.\n"
          ]
        }
      ],
      "source": [
        "def generate_weather_response(parsed_question, weather_data):\n",
        "    \"\"\"\n",
        "    Generate a natural language response to a weather question.\n",
        "\n",
        "    Args:\n",
        "        parsed_question (dict): Parsed question data\n",
        "        weather_data (dict): Weather data\n",
        "\n",
        "    Returns:\n",
        "        str: Natural language response\n",
        "    \"\"\"\n",
        "    location = parsed_question.get('location', 'Unknown location')\n",
        "    time_period = parsed_question.get('time_period', 'today')\n",
        "    attribute = parsed_question.get('attribute', 'temperature')\n",
        "\n",
        "    if not weather_data:\n",
        "        return f\"Sorry, I couldn't find weather data for {location}.\"\n",
        "\n",
        "    def is_no_rain(value):\n",
        "        return value is None or value == 0 or (isinstance(value, (int, float)) and value < 0.1)\n",
        "\n",
        "    if time_period == \"today\":\n",
        "        current = weather_data.get(\"current\", {})\n",
        "        if not current:\n",
        "            return f\"Sorry, no current weather data for {location}.\"\n",
        "\n",
        "        if attribute == \"temperature\":\n",
        "            temp = current.get('temperature', 'N/A')\n",
        "            return f\"The current temperature in {location} is {temp}°C.\"\n",
        "        elif attribute == \"rain\":\n",
        "            rain = current.get('rain', 0)\n",
        "            if is_no_rain(rain):\n",
        "                return f\"No rain is expected in {location} today.\"\n",
        "            else:\n",
        "                return f\"The current rainfall in {location} is {rain} mm.\"\n",
        "        elif attribute == \"humidity\":\n",
        "            humidity = current.get('humidity', 'N/A')\n",
        "            return f\"The current humidity in {location} is {humidity}%.\"\n",
        "        elif attribute == \"wind\":\n",
        "            wind = current.get('wind_speed', 'N/A')\n",
        "            return f\"The current wind speed in {location} is {wind} m/s.\"\n",
        "        elif attribute == \"weather\":\n",
        "            weather = current.get('weather', 'N/A')\n",
        "            return f\"The current weather in {location} is {weather}.\"\n",
        "\n",
        "    elif time_period == \"tomorrow\":\n",
        "        forecast = weather_data.get(\"forecast\", {}).get(\"tomorrow\", {})\n",
        "        if not forecast:\n",
        "            return f\"Sorry, I couldn't find forecast data for {location} tomorrow.\"\n",
        "\n",
        "        if attribute == \"temperature\":\n",
        "            avg_temp = forecast.get('avg_temp', 'N/A')\n",
        "            return f\"The average temperature in {location} tomorrow will be {avg_temp}°C.\"\n",
        "        elif attribute == \"rain\":\n",
        "            rain = forecast.get('rain', 0)\n",
        "            if is_no_rain(rain):\n",
        "                return f\"No rain is expected in {location} tomorrow.\"\n",
        "            else:\n",
        "                return f\"The expected rainfall in {location} tomorrow is {rain} mm.\"\n",
        "        elif attribute == \"humidity\":\n",
        "            humidity = forecast.get('avg_humidity', 'N/A')\n",
        "            return f\"The average humidity in {location} tomorrow will be {humidity}%.\"\n",
        "        elif attribute == \"wind\":\n",
        "            wind = forecast.get('avg_wind_speed', 'N/A')\n",
        "            return f\"The average wind speed in {location} tomorrow will be {wind} m/s.\"\n",
        "        elif attribute == \"weather\":\n",
        "            weather = forecast.get('common_weather', 'N/A')\n",
        "            return f\"The common weather in {location} tomorrow will be {weather}.\"\n",
        "\n",
        "    return f\"Sorry, I couldn't answer your question about {attribute} in {location}.\"\n",
        "\n",
        "\n",
        "# --- Example tests ---\n",
        "\n",
        "sample_parsed_question1 = {\n",
        "    'location': 'Perth',\n",
        "    'time_period': 'today',\n",
        "    'attribute': 'temperature'\n",
        "}\n",
        "\n",
        "sample_parsed_question2 = {\n",
        "    'location': 'Perth',\n",
        "    'time_period': 'tomorrow',\n",
        "    'attribute': 'rain'\n",
        "}\n",
        "\n",
        "sample_weather_data = {\n",
        "    'current': {\n",
        "        'temperature': 24.87,\n",
        "        'rain': 0,\n",
        "        'humidity': 52,\n",
        "        'wind_speed': 8.23,\n",
        "        'weather': 'scattered clouds'\n",
        "    },\n",
        "    'forecast': {\n",
        "        'tomorrow': {\n",
        "            'avg_temp': 19.2,\n",
        "            'rain': 0.0,  # No rain tomorrow\n",
        "            'avg_humidity': 60,\n",
        "            'avg_wind_speed': 5.0,\n",
        "            'common_weather': 'clear sky'\n",
        "        }\n",
        "    }\n",
        "}\n",
        "\n",
        "print(generate_weather_response(sample_parsed_question1, sample_weather_data))\n",
        "\n",
        "\n",
        "print(generate_weather_response(sample_parsed_question2, sample_weather_data))\n",
        "\n"
      ]
    },
    {
      "cell_type": "markdown",
      "id": "d2885880",
      "metadata": {
        "id": "d2885880"
      },
      "source": [
        "## 🗂️ AI Prompting Log (Optional)\n",
        "Add markdown cells here summarising prompts used or link to AI conversations in the `ai-conversations/` folder."
      ]
    }
  ],
  "metadata": {
    "language_info": {
      "name": "python"
    },
    "colab": {
      "provenance": [],
      "include_colab_link": true
    },
    "kernelspec": {
      "name": "python3",
      "display_name": "Python 3"
    }
  },
  "nbformat": 4,
  "nbformat_minor": 5
}