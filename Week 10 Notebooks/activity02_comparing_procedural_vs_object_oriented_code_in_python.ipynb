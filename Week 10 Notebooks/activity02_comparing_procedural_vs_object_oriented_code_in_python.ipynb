{
  "cells": [
    {
      "cell_type": "markdown",
      "metadata": {
        "id": "view-in-github",
        "colab_type": "text"
      },
      "source": [
        "<a href=\"https://colab.research.google.com/github/Dineshkumar128/ISYS2001-S1-2025/blob/main/Week%2010%20Notebooks/activity02_comparing_procedural_vs_object_oriented_code_in_python.ipynb\" target=\"_parent\"><img src=\"https://colab.research.google.com/assets/colab-badge.svg\" alt=\"Open In Colab\"/></a>"
      ]
    },
    {
      "cell_type": "markdown",
      "metadata": {
        "id": "lWMhhuWOclJP"
      },
      "source": [
        "# Exploring Code Paradigms: Procedural vs Object-Oriented in Python\n",
        "*A Hands-On Approach to Understanding Code Structures*\n",
        "\n",
        "\n",
        "## Learning Objectives\n",
        "- By the end of this activity, you will be able to distinguish between procedural and object-oriented programming in Python.\n",
        "- Understand the basic concepts and applications of classes and objects.\n",
        "- Evaluate the appropriateness of using procedural or object-oriented techniques for different programming scenarios.\n",
        "\n",
        "## Introduction\n",
        "Understanding different programming paradigms is crucial not only for developing flexible coding skills but also for appreciating how these paradigms can be applied to solve various problems efficiently. This worksheet will guide you through the foundational concepts of Procedural and Object-Oriented Programming (OOP) in Python, helping you see where each approach might be most effective.\n",
        "\n",
        "## Using AI Tools Ethically & Effectively\n",
        "> **Transparency:** Always disclose your use of AI tools in your work. For instance, note any instances where AI helped you generate ideas or refine your code.\n",
        ">\n",
        "> **Critical Evaluation:** Remember that AI suggestions may not always be accurate. Always verify the information and refine the AI-generated content to ensure quality and relevance.\n",
        ">\n",
        "> **Learning Partner:** Use AI tools to deepen your understanding, asking for explanations or examples. For example, you can start with prompts like \"Explain encapsulation in simple terms\" or \"Provide an example of polymorphism in Python.\"\n",
        "\n",
        "## Key Concepts\n",
        "- **Procedural Programming:** A programming paradigm based on the concept of procedure calls, where statements are structured into procedures (functions).\n",
        "- **Object-Oriented Programming (OOP):** A programming paradigm based on the concept of \"objects\", which can contain data in the form of fields (often known as attributes), and code, in the form of procedures (often known as methods).\n",
        "- **Class:** A blueprint for creating objects (a particular data structure), providing initial values for state (member variables), and implementations of behavior (member functions or methods).\n",
        "- **Object:** An instance of a class.\n",
        "\n",
        "## Application Activities\n",
        "\n",
        "### Activity 1: Identifying Paradigms in Real Code\n",
        "*Scenario:* You are given a snippet of Python code. Determine whether it uses a procedural or object-oriented approach and justify your answer."
      ]
    },
    {
      "cell_type": "code",
      "metadata": {
        "id": "Mf9w4Jb2clJQ",
        "outputId": "6cdd4a39-408c-44e2-8c66-a9c2632a6fa1",
        "colab": {
          "base_uri": "https://localhost:8080/"
        }
      },
      "source": [
        "def calculate_area(base, height):\n",
        "    return 0.5 * base * height\n",
        "\n",
        "area = calculate_area(5, 10)\n",
        "print(\"Area:\", area)"
      ],
      "execution_count": 1,
      "outputs": [
        {
          "output_type": "stream",
          "name": "stdout",
          "text": [
            "Area: 25.0\n"
          ]
        }
      ]
    },
    {
      "cell_type": "markdown",
      "metadata": {
        "id": "HNuneETyclJR"
      },
      "source": [
        "*Your response:*"
      ]
    },
    {
      "cell_type": "markdown",
      "metadata": {
        "id": "AZZrPwrMclJR"
      },
      "source": [
        "---\n",
        "\n",
        "### Activity 2: Refactoring to OOP\n",
        "*Task:* Refactor the procedural code provided in Activity 1 into an object-oriented format. Define a class `Triangle` with a method to calculate the area."
      ]
    },
    {
      "cell_type": "code",
      "metadata": {
        "id": "3O9rvtRrclJR",
        "outputId": "54bd1897-38ac-4a87-819e-e04be9cd217f",
        "colab": {
          "base_uri": "https://localhost:8080/"
        }
      },
      "source": [
        "# Procedural code\n",
        "def calculate_area(base, height):\n",
        "    return 0.5 * base * height\n",
        "\n",
        "area = calculate_area(5, 10)\n",
        "print(\"Area:\", area)\n",
        "\n",
        "# Refactor to OOP below\n"
      ],
      "execution_count": 2,
      "outputs": [
        {
          "output_type": "stream",
          "name": "stdout",
          "text": [
            "Area: 25.0\n"
          ]
        }
      ]
    },
    {
      "cell_type": "raw",
      "metadata": {
        "id": "vBq7HdVzclJR"
      },
      "source": [
        "---"
      ]
    },
    {
      "cell_type": "markdown",
      "metadata": {
        "id": "qmyrLNpMclJR"
      },
      "source": [
        "💡 **AI Tip:** Stuck on how to start refactoring? Ask an AI: \"How can I convert procedural code into an object-oriented class in Python?\" Use its suggestions to guide your initial design, but ensure you understand and can justify each part of the transformed code.\n",
        "\n",
        "### Extension Task: Enhance the Triangle Class\n",
        "Enhance your `Triangle` class by adding more functionalities such as calculating the perimeter, and include input validation.\n",
        "\n",
        "*Your response:*"
      ]
    },
    {
      "cell_type": "code",
      "metadata": {
        "id": "RRgGORExclJS",
        "outputId": "d6147aae-76f3-4546-c4da-2390554b71ff",
        "colab": {
          "base_uri": "https://localhost:8080/"
        }
      },
      "source": [
        "class Triangle:\n",
        "    def __init__(self, side_a, side_b, side_c, base, height):\n",
        "        # Validate inputs to ensure they are positive\n",
        "        if any(side <= 0 for side in [side_a, side_b, side_c, base, height]):\n",
        "            raise ValueError(\"All sides and height must be positive numbers.\")\n",
        "\n",
        "        self.side_a = side_a\n",
        "        self.side_b = side_b\n",
        "        self.side_c = side_c\n",
        "        self.base = base\n",
        "        self.height = height\n",
        "\n",
        "    def calculate_area(self):\n",
        "        return 0.5 * self.base * self.height\n",
        "\n",
        "    def calculate_perimeter(self):\n",
        "        return self.side_a + self.side_b + self.side_c\n",
        "\n",
        "\n",
        "# Example usage\n",
        "try:\n",
        "    triangle = Triangle(3, 4, 5, 5, 10)\n",
        "    print(\"Area:\", triangle.calculate_area())\n",
        "    print(\"Perimeter:\", triangle.calculate_perimeter())\n",
        "except ValueError as e:\n",
        "    print(e)\n"
      ],
      "execution_count": 4,
      "outputs": [
        {
          "output_type": "stream",
          "name": "stdout",
          "text": [
            "Area: 25.0\n",
            "Perimeter: 12\n"
          ]
        }
      ]
    },
    {
      "cell_type": "raw",
      "metadata": {
        "id": "pxRxCiRqclJS"
      },
      "source": [
        "---\n",
        "\n",
        "## Reflection\n",
        "- Reflect on how you might use the knowledge of different programming paradigms in your future projects.\n",
        "- Discuss how you used AI tools during this activity and evaluate their effectiveness.\n",
        "- Describe how you ensured the integrity of your work when using AI suggestions.\n",
        "\n",
        "*Your response:*\n",
        "\n",
        "---"
      ]
    },
    {
      "cell_type": "markdown",
      "metadata": {
        "id": "BK8adalmclJS"
      },
      "source": [
        "This worksheet has introduced you to the fundamental differences and applications of procedural and object-oriented programming in Python. By engaging with the code and refactoring tasks, you gain hands-on experience that helps solidify your understanding of these concepts. Remember, the choice of programming paradigm can significantly influence the design, maintenance, and scalability of software projects."
      ]
    }
  ],
  "metadata": {
    "kernelspec": {
      "display_name": "Python 3",
      "language": "python",
      "name": "python3"
    },
    "colab": {
      "provenance": [],
      "include_colab_link": true
    }
  },
  "nbformat": 4,
  "nbformat_minor": 0
}