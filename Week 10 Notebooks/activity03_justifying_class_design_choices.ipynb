{
  "cells": [
    {
      "cell_type": "markdown",
      "metadata": {
        "id": "view-in-github",
        "colab_type": "text"
      },
      "source": [
        "<a href=\"https://colab.research.google.com/github/Dineshkumar128/ISYS2001-S1-2025/blob/main/Week%2010%20Notebooks/activity03_justifying_class_design_choices.ipynb\" target=\"_parent\"><img src=\"https://colab.research.google.com/assets/colab-badge.svg\" alt=\"Open In Colab\"/></a>"
      ]
    },
    {
      "cell_type": "markdown",
      "metadata": {
        "id": "FF6Raf_ec0k7"
      },
      "source": [
        "# Mastering OOP: Design Choices Unpacked\n",
        "*Explore and Justify Object-Oriented Programming Decisions*\n",
        "\n",
        "## Learning Objectives\n",
        "By the end of this activity, you will be able to:\n",
        "- Understand and apply basic principles of Object-Oriented Programming (OOP).\n",
        "- Justify the design choices made when creating class structures in Python.\n",
        "- Evaluate and improve your design approach using AI tools responsibly.\n",
        "\n",
        "## Introduction\n",
        "Object-Oriented Programming (OOP) is a crucial paradigm in software development, known for its ability to encapsulate data and functions into structures known as classes. This approach not only enhances code modularity and reusability but also simplifies complex software designs. As budding software developers, understanding how to design and justify your class structures will be essential in your programming career.\n",
        "\n",
        "## Using AI Tools Ethically & Effectively\n",
        "> **Transparency:** Always disclose when and how you have used AI assistance in your work. It's important to be open about the tools you use and how they contribute to your outcomes.\n",
        ">\n",
        "> **Critical Evaluation:** Remember, AI is a tool—not a replacement for your judgement. Always review and critically assess the AI-generated content before including it in your work.\n",
        ">\n",
        "> **Learning Partner:** Use AI to deepen your understanding. Ask it to explain concepts or provide examples, but ensure you're still engaging deeply with the material and not just copying answers.\n",
        "\n",
        "## Key Concepts\n",
        "- **Class:** A blueprint for creating objects (a particular data structure).\n",
        "- **Inheritance:** A mechanism for creating a new class using details of an existing class without modifying it.\n",
        "- **Polymorphism:** The ability to redefine methods for derived classes.\n",
        "- **Encapsulation:** Keeping the data inside a class safe from external modification.\n",
        "\n",
        "## Application Activities\n",
        "\n",
        "### Activity 1: Designing a Simple Class\n",
        "Imagine you need to create a software system for a library to manage books and patrons. Design a class `Book` that includes attributes like title, author, and year of publication, and methods for checking in and checking out the book.\n",
        "\n",
        "*Your response:*"
      ]
    },
    {
      "cell_type": "code",
      "metadata": {
        "id": "7DrdJSYpc0k9"
      },
      "source": [
        "class Book:\n",
        "    def __init__(self, title, author, year_published):\n",
        "        self.title = title\n",
        "        self.author = author\n",
        "        self.year_published = year_published\n",
        "        self.is_checked_out = False\n",
        "\n",
        "    def check_out(self):\n",
        "        if not self.is_checked_out:\n",
        "            self.is_checked_out = True\n",
        "            print(f\"'{self.title}' has been checked out.\")\n",
        "        else:\n",
        "            print(f\"'{self.title}' is already checked out.\")\n",
        "\n",
        "    def check_in(self):\n",
        "        if self.is_checked_out:\n",
        "            self.is_checked_out = False\n",
        "            print(f\"'{self.title}' has been returned.\")\n",
        "        else:\n",
        "            print(f\"'{self.title}' was not checked out.\")\n"
      ],
      "execution_count": 1,
      "outputs": []
    },
    {
      "cell_type": "markdown",
      "metadata": {
        "id": "Ga0yRPOec0k9"
      },
      "source": [
        "💡 **AI Tip**: Stuck on attributes? Ask an AI: \"What are common attributes of books in a library system?\" Use the suggestions to refine your class design.\n",
        "\n",
        "### Activity 2: Justifying Your Design\n",
        "Write a short paragraph explaining why you designed the `Book` class as you did. What benefits does your design offer? How does it adhere to OOP principles such as encapsulation and polymorphism?\n",
        "\n",
        "*Your response:*\n",
        "```\n",
        "# Provide your justification here.\n",
        "```\n",
        "\n",
        "💡 **AI Tip**: Drafted your answer? Ask an AI: \"Review this explanation for clarity and suggest improvements.\" Use its feedback to refine your own writing.\n",
        "\n",
        "## Extension Challenge\n",
        "Design a `Patron` class for the library system that interacts with your `Book` class. Consider methods like `borrow_book` and `return_book`. How might these classes interact to manage state changes like a book being checked out?\n",
        "\n",
        "*Your response:*"
      ]
    },
    {
      "cell_type": "markdown",
      "source": [
        "Activity 2: Justifying Your Design\n",
        "\n",
        "Write a short paragraph explaining why you designed the Book class as you did. What benefits does your design offer? How does it adhere to OOP principles such as encapsulation and polymorphism?\n",
        "\n",
        "Your response:  The Book class is designed to encapsulate key attributes of a book, such as title, author, and year_published, ensuring all relevant information is grouped together in a single object. The methods check_out and check_in manage the state of the is_checked_out attribute, adhering to the principle of encapsulation by limiting external manipulation of the book's status.\n",
        "\n",
        "This design simplifies state management and ensures consistency, as all interactions with the is_checked_out attribute must go through the defined methods. Additionally, while polymorphism isn’t implemented in this initial class, the design is flexible enough to extend functionality in derived classes (e.g., differentiating between physical and digital books)."
      ],
      "metadata": {
        "id": "R3UQJ8gB0mih"
      }
    },
    {
      "cell_type": "code",
      "metadata": {
        "id": "cKvSdJbQc0k-"
      },
      "source": [
        "class Patron:\n",
        "    def __init__(self, name):\n",
        "        self.name = name\n",
        "        self.borrowed_books = []\n",
        "\n",
        "    def borrow_book(self, book):\n",
        "        if not book.is_checked_out:\n",
        "            book.check_out()\n",
        "            self.borrowed_books.append(book)\n",
        "            print(f\"{self.name} borrowed '{book.title}'.\")\n",
        "        else:\n",
        "            print(f\"'{book.title}' is already checked out by someone else.\")\n",
        "\n",
        "    def return_book(self, book):\n",
        "        if book in self.borrowed_books:\n",
        "            book.check_in()\n",
        "            self.borrowed_books.remove(book)\n",
        "            print(f\"{self.name} returned '{book.title}'.\")\n",
        "        else:\n",
        "            print(f\"{self.name} does not have '{book.title}' borrowed.\")\n"
      ],
      "execution_count": 2,
      "outputs": []
    },
    {
      "cell_type": "markdown",
      "metadata": {
        "id": "eS3Ft7Hvc0k-"
      },
      "source": [
        "## Reflection\n",
        "Reflect on how you used AI tools to assist with your class design. What did you find most helpful? How did you ensure the integrity of your work when using AI suggestions?\n",
        "\n",
        "*Your reflection:*\n",
        "```\n",
        "# Your reflection here.\n",
        "```\n",
        "\n",
        "Remember, the key to leveraging AI effectively is to use it as a tool to enhance your learning, not to replace it. Always aim to understand deeply and think critically about the solutions you develop."
      ]
    },
    {
      "cell_type": "markdown",
      "source": [
        "Ans: Using AI tools helped refine the design and enhance clarity in implementing OOP principles. For example, I used AI to validate the functionality of the Book and Patron classes and ensure proper state management between them. The tools also provided suggestions to streamline the interaction logic between classes, such as using methods to ensure books cannot be checked out if already borrowed.\n",
        "\n",
        "To maintain integrity, I critically evaluated and tested each AI suggestion, modifying them to align with the goals of this activity. This process ensured that the final implementation was not only functional but also aligned with good design practices."
      ],
      "metadata": {
        "id": "HFHss3w-0wDp"
      }
    }
  ],
  "metadata": {
    "kernelspec": {
      "display_name": "Python 3",
      "language": "python",
      "name": "python3"
    },
    "colab": {
      "provenance": [],
      "include_colab_link": true
    }
  },
  "nbformat": 4,
  "nbformat_minor": 0
}